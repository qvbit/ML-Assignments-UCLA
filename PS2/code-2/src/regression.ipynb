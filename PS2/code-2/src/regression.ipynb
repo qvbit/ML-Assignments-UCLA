{
 "cells": [
  {
   "cell_type": "markdown",
   "metadata": {},
   "source": [
    "# Regression Notebook"
   ]
  },
  {
   "cell_type": "code",
   "execution_count": 1,
   "metadata": {
    "collapsed": true
   },
   "outputs": [],
   "source": [
    "#load data\n",
    "from regression import *\n",
    "train_data = load_data('regression_train.csv')\n",
    "test_data = load_data('regression_test.csv')"
   ]
  },
  {
   "cell_type": "markdown",
   "metadata": {},
   "source": [
    "## 5.1a)"
   ]
  },
  {
   "cell_type": "code",
   "execution_count": 2,
   "metadata": {},
   "outputs": [
    {
     "name": "stdout",
     "output_type": "stream",
     "text": [
      "Visualizing data...\n"
     ]
    },
    {
     "data": {
      "image/png": "[encoded data removed]",
      "text/plain": [
       "<matplotlib.figure.Figure at 0x10ae029e8>"
      ]
     },
     "metadata": {},
     "output_type": "display_data"
    }
   ],
   "source": [
    "# part a: main code for visualizations\n",
    "print('Visualizing data...')\n",
    "\n",
    "plot_data(train_data.X, train_data.y)"
   ]
  },
  {
   "cell_type": "markdown",
   "metadata": {},
   "source": [
    "We see from the plot that if just fit a polynomial of order 1 (i.e. a line), it will underfit the data. We will have to choose a higher degree model in order to obtain a good fit. "
   ]
  },
  {
   "cell_type": "markdown",
   "metadata": {},
   "source": [
    "## 5.1b)"
   ]
  },
  {
   "cell_type": "code",
   "execution_count": 3,
   "metadata": {},
   "outputs": [
    {
     "name": "stdout",
     "output_type": "stream",
     "text": [
      "Investigating linear regression...\n"
     ]
    },
    {
     "data": {
      "text/plain": [
       "<function print>"
      ]
     },
     "execution_count": 3,
     "metadata": {},
     "output_type": "execute_result"
    }
   ],
   "source": [
    "# parts b-f: main code for linear regression\n",
    "print('Investigating linear regression...')\n",
    "\n",
    "model = PolynomialRegression()\n",
    "Xl = model.generate_polynomial_features(train_data.X)\n",
    "print"
   ]
  },
  {
   "cell_type": "markdown",
   "metadata": {},
   "source": [
    "## 5.1c)"
   ]
  },
  {
   "cell_type": "markdown",
   "metadata": {},
   "source": [
    "y = np.dot(X, self.coef_)"
   ]
  },
  {
   "cell_type": "markdown",
   "metadata": {},
   "source": [
    "## 5.1d)"
   ]
  },
  {
   "cell_type": "code",
   "execution_count": 4,
   "metadata": {},
   "outputs": [
    {
     "data": {
      "text/plain": [
       "40.233847409671"
      ]
     },
     "execution_count": 4,
     "metadata": {},
     "output_type": "execute_result"
    }
   ],
   "source": [
    "## Code Snippet:\n",
    "\n",
    "model.coef_ = np.zeros(2)\n",
    "model.cost(train_data.X, train_data.y)"
   ]
  },
  {
   "cell_type": "code",
   "execution_count": 5,
   "metadata": {},
   "outputs": [
    {
     "name": "stdout",
     "output_type": "stream",
     "text": [
      "number of iterations: 10000\n",
      "number of iterations: 10000\n",
      "number of iterations: 1495\n",
      "number of iterations: 384\n"
     ]
    }
   ],
   "source": [
    "## Fitting with Gradient Descent\n",
    "\n",
    "etas = [0.0001, 0.001, 0.01, 0.0407]\n",
    "table = []\n",
    "for eta in etas:\n",
    "    num_iters, model, time = model.fit_GD(X=train_data.X, y=train_data.y, eta = eta, verbose = False)\n",
    "    table.append({'eta': eta, 'coefficient': model.coef_, 'num_iters': num_iters, 'cost': model.cost(train_data.X,train_data.y), 'time' : time})"
   ]
  },
  {
   "cell_type": "code",
   "execution_count": 6,
   "metadata": {},
   "outputs": [
    {
     "name": "stdout",
     "output_type": "stream",
     "text": [
      "Testing different etas...\n",
      "eta:0.0001|coefficients:[ 1.91573585 -1.74358989]|cost:5.49356558874|num_iterations:10000|time:1.0606250000000002\n",
      "eta:0.001|coefficients:[ 2.4463815  -2.81630184]|cost:3.91257640947|num_iterations:10000|time:0.962936\n",
      "eta:0.01|coefficients:[ 2.446407   -2.81635339]|cost:3.91257640579|num_iterations:1495|time:0.1493500000000001\n",
      "eta:0.0407|coefficients:[ 2.44640706 -2.81635352]|cost:3.91257640579|num_iterations:384|time:0.04141099999999964\n"
     ]
    }
   ],
   "source": [
    "print(\"Testing different etas...\")\n",
    "\n",
    "for item in table:\n",
    "    print(\"eta:\" + str(item['eta']) + \"|\" + \"coefficients:\" + str(item['coefficient']) + \"|\" + \"cost:\" + str(item['cost']) + \"|\" + 'num_iterations:' + str(item['num_iters']) + \"|\" + 'time:' + str(item['time'])) "
   ]
  },
  {
   "cell_type": "markdown",
   "metadata": {},
   "source": [
    "We see that that for eta = 0.0001 and 0.001, the algorithm doesn't converge. The coefficients are very incorrect for eta - 0.0001 but are pretty close for the other 3 etas tested. For eta = 0.01, the algorithm does converge and the coefficients are pretty accuract. For eta = 0.0407, the algorithm converges the fastest, has the most accurate coefficients (as compared to the closed form solution below). "
   ]
  },
  {
   "cell_type": "markdown",
   "metadata": {},
   "source": [
    "## 5.1e"
   ]
  },
  {
   "cell_type": "code",
   "execution_count": 7,
   "metadata": {},
   "outputs": [
    {
     "name": "stdout",
     "output_type": "stream",
     "text": [
      "Getting closed form solution for theta...\n",
      "Coefficients:\n",
      "[ 2.44640709 -2.81635359]\n",
      "Cost:\n",
      "3.91257640579\n",
      "Time to run:\n",
      "0.008859999999999868\n"
     ]
    }
   ],
   "source": [
    "print(\"Getting closed form solution for theta...\")\n",
    "\n",
    "model, time_end = model.fit(train_data.X, train_data.y)\n",
    "print(\"Coefficients:\")\n",
    "print(model.coef_)\n",
    "print(\"Cost:\")\n",
    "print(model.cost(train_data.X, train_data.y))\n",
    "print(\"Time to run:\")\n",
    "print(time_end)"
   ]
  },
  {
   "cell_type": "markdown",
   "metadata": {},
   "source": [
    "We see that both the coefficients and cost are close to the ones obtained with GD when the the algorithm actually converged. The time to run this was also much faster since this implemntation is completely vectorized whereas the GD implentation had up to 10000 iterations. "
   ]
  },
  {
   "cell_type": "markdown",
   "metadata": {},
   "source": [
    "## 5.1f"
   ]
  },
  {
   "cell_type": "code",
   "execution_count": 8,
   "metadata": {},
   "outputs": [
    {
     "name": "stdout",
     "output_type": "stream",
     "text": [
      "Now using learning rate a function of k\n",
      "number of iterations: 10000\n",
      "Coefficients:\n",
      "[ 2.44634965 -2.81623746]\n",
      "Cost:\n",
      "3.91257642432\n",
      "Time to run:\n",
      "0.9856609999999999\n"
     ]
    }
   ],
   "source": [
    "print(\"Now using learning rate a function of k\")\n",
    "\n",
    "num_iters, model, time = model.fit_GD(X = train_data.X, y = train_data.y, verbose = False)\n",
    "print(\"Coefficients:\")\n",
    "print(model.coef_)\n",
    "print(\"Cost:\")\n",
    "print(model.cost(train_data.X, train_data.y))\n",
    "print(\"Time to run:\")\n",
    "print(time)"
   ]
  },
  {
   "cell_type": "markdown",
   "metadata": {},
   "source": [
    "With this we see that the coeficients and cost are quite close to the closed form solution above but the time to run is MUCH larger than the closed form solution above. It maxed out on the iterations so it didn't converge either. "
   ]
  },
  {
   "cell_type": "markdown",
   "metadata": {},
   "source": [
    "## 5.1e-h)"
   ]
  },
  {
   "cell_type": "markdown",
   "metadata": {},
   "source": [
    "We use the RMSE because since now that we are using polynomials, the error will go very low and just having 1/2 x J will be very small and hard to compare. With sqrt(1/N x J), the error will be easier to read as it will be a larger number."
   ]
  },
  {
   "cell_type": "markdown",
   "metadata": {},
   "source": [
    "## 5.1i)"
   ]
  },
  {
   "cell_type": "code",
   "execution_count": 11,
   "metadata": {},
   "outputs": [
    {
     "name": "stdout",
     "output_type": "stream",
     "text": [
      "Now fitting polynomial models of varying orders: (green is test error, blue is train error)\n"
     ]
    },
    {
     "data": {
      "image/png": "[encoded data removed]",
      "text/plain": [
       "<matplotlib.figure.Figure at 0x115600e48>"
      ]
     },
     "metadata": {},
     "output_type": "display_data"
    }
   ],
   "source": [
    "print(\"Now fitting polynomial models of varying orders: (green is test error, blue is train error)\")\n",
    "\n",
    "nomials = np.arange(0,11)\n",
    "d_train = {}\n",
    "d_test = {}\n",
    "for m in nomials:\n",
    "    model = PolynomialRegression(m=m)\n",
    "    model.fit(X=train_data.X, y = train_data.y)\n",
    "    d_train[m]=model.rms_error(train_data.X, train_data.y)\n",
    "    d_test[m]=model.rms_error(test_data.X, test_data.y)\n",
    "plt.plot(d_train.keys(), d_train.values(), 'b--', label=\"training error\")\n",
    "plt.plot(d_test.keys(), d_test.values(), 'g--', label = \"test error\")\n",
    "plt.xlabel('model complexity')\n",
    "plt.ylabel('root mse')\n",
    "plt.show()\n",
    "    \n",
    "\n"
   ]
  },
  {
   "cell_type": "markdown",
   "metadata": {},
   "source": [
    "We see that when the order of the polynomial is low we have high test and train error which corresponds to underfitting. As the order goes up, the test error decreases until it reaches a low value at around order = 4-6 and then it starts going up corresponding to overfitting. The trining error keeps getting lower and lower as expected since the high order polynomials are overfitting. Visually, the best fit seemed to occur at around m = 5 or m =6 as this represents the low point in the test error curve. "
   ]
  }
 ],
 "metadata": {
  "hide_input": false,
  "kernelspec": {
   "display_name": "Python 3",
   "language": "python",
   "name": "python3"
  },
  "language_info": {
   "codemirror_mode": {
    "name": "ipython",
    "version": 3
   },
   "file_extension": ".py",
   "mimetype": "text/x-python",
   "name": "python",
   "nbconvert_exporter": "python",
   "pygments_lexer": "ipython3",
   "version": "3.6.3"
  },
  "varInspector": {
   "cols": {
    "lenName": 16,
    "lenType": 16,
    "lenVar": 40
   },
   "kernels_config": {
    "python": {
     "delete_cmd_postfix": "",
     "delete_cmd_prefix": "del ",
     "library": "var_list.py",
     "varRefreshCmd": "print(var_dic_list())"
    },
    "r": {
     "delete_cmd_postfix": ") ",
     "delete_cmd_prefix": "rm(",
     "library": "var_list.r",
     "varRefreshCmd": "cat(var_dic_list()) "
    }
   },
   "position": {
    "height": "144px",
    "left": "787px",
    "right": "20px",
    "top": "120px",
    "width": "350px"
   },
   "types_to_exclude": [
    "module",
    "function",
    "builtin_function_or_method",
    "instance",
    "_Feature"
   ],
   "window_display": false
  }
 },
 "nbformat": 4,
 "nbformat_minor": 2
}
